{
  "nbformat": 4,
  "nbformat_minor": 0,
  "metadata": {
    "colab": {
      "provenance": [],
      "collapsed_sections": [],
      "authorship_tag": "ABX9TyNJyX2Z57z0uApJP075hV42",
      "include_colab_link": true
    },
    "kernelspec": {
      "name": "python3",
      "display_name": "Python 3"
    },
    "language_info": {
      "name": "python"
    }
  },
  "cells": [
    {
      "cell_type": "markdown",
      "metadata": {
        "id": "view-in-github",
        "colab_type": "text"
      },
      "source": [
        "<a href=\"https://colab.research.google.com/github/aditya-ervansyah/Python-QR-Generator/blob/main/QR_generator.ipynb\" target=\"_parent\"><img src=\"https://colab.research.google.com/assets/colab-badge.svg\" alt=\"Open In Colab\"/></a>"
      ]
    },
    {
      "cell_type": "code",
      "source": [
        "import qrcode"
      ],
      "metadata": {
        "id": "mgtlp_c1U7mp"
      },
      "execution_count": null,
      "outputs": []
    },
    {
      "cell_type": "code",
      "source": [
        "url = input(\"add your url to make QR : \")"
      ],
      "metadata": {
        "colab": {
          "base_uri": "https://localhost:8080/"
        },
        "id": "hIjb8iZYcW4e",
        "outputId": "38df64b2-448b-4203-9ff2-7ad6b890e82b"
      },
      "execution_count": null,
      "outputs": [
        {
          "name": "stdout",
          "output_type": "stream",
          "text": [
            "add your url to make QR : https://github.com/aditya-ervansyah\n"
          ]
        }
      ]
    },
    {
      "cell_type": "code",
      "source": [
        "qr = qrcode.QRCode(\n",
        "    version=1,\n",
        "    error_correction=qrcode.constants.ERROR_CORRECT_L,\n",
        "    box_size=15,\n",
        "    border=4,\n",
        ")"
      ],
      "metadata": {
        "id": "jCDP4SMpcqcV"
      },
      "execution_count": null,
      "outputs": []
    },
    {
      "cell_type": "code",
      "source": [
        "title = (url[8:18])\n",
        "title = title.replace(\".\",\"\")\n",
        "format = \".png\"\n",
        "titleQr = title + format\n",
        "print(titleQr)"
      ],
      "metadata": {
        "colab": {
          "base_uri": "https://localhost:8080/"
        },
        "id": "CNEQ-ajteH4b",
        "outputId": "41d7cc95-2a46-4257-cb95-4e88e2145fb7"
      },
      "execution_count": null,
      "outputs": [
        {
          "output_type": "stream",
          "name": "stdout",
          "text": [
            "githubcom.png\n"
          ]
        }
      ]
    },
    {
      "cell_type": "code",
      "source": [
        "qr.add_data(url)\n",
        "qr.make(fit=True)"
      ],
      "metadata": {
        "id": "APCarNZ_njI3"
      },
      "execution_count": null,
      "outputs": []
    },
    {
      "cell_type": "code",
      "source": [
        "img = qr.make_image(fill_color=\"blue\", back_color=\"black\")\n",
        "img.save(titleQr)"
      ],
      "metadata": {
        "id": "JvY_KawCc5to"
      },
      "execution_count": null,
      "outputs": []
    },
    {
      "cell_type": "code",
      "source": [
        "print(qr.data_list)"
      ],
      "metadata": {
        "colab": {
          "base_uri": "https://localhost:8080/"
        },
        "id": "fPlLUCnVeheJ",
        "outputId": "1eea24bc-f196-47ef-b9f5-4e822877288f"
      },
      "execution_count": null,
      "outputs": [
        {
          "output_type": "stream",
          "name": "stdout",
          "text": [
            "[b'https://github.com/aditya-ervansyah']\n"
          ]
        }
      ]
    }
  ]
}