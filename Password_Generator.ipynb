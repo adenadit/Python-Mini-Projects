{
  "nbformat": 4,
  "nbformat_minor": 0,
  "metadata": {
    "colab": {
      "provenance": [],
      "authorship_tag": "ABX9TyNDYtFECwrU9BWS4oS8mLIH",
      "include_colab_link": true
    },
    "kernelspec": {
      "name": "python3",
      "display_name": "Python 3"
    },
    "language_info": {
      "name": "python"
    }
  },
  "cells": [
    {
      "cell_type": "markdown",
      "metadata": {
        "id": "view-in-github",
        "colab_type": "text"
      },
      "source": [
        "<a href=\"https://colab.research.google.com/github/adenadit/Python-Mini-Projects/blob/main/Password_Generator.ipynb\" target=\"_parent\"><img src=\"https://colab.research.google.com/assets/colab-badge.svg\" alt=\"Open In Colab\"/></a>"
      ]
    },
    {
      "cell_type": "code",
      "execution_count": null,
      "metadata": {
        "id": "yE4yJXeK7cJm"
      },
      "outputs": [],
      "source": [
        "import random"
      ]
    },
    {
      "cell_type": "code",
      "source": [
        "chars ='abcdefghijklmnopqrstuvwxyzABCDEFGHIJKLMNOPQRSTUVWXYZ!@#$%^&*?0123456789'"
      ],
      "metadata": {
        "id": "MskySn9TCTx5"
      },
      "execution_count": null,
      "outputs": []
    },
    {
      "cell_type": "code",
      "source": [
        "num =input('Amount of Password generate: ')\n",
        "num =int(num)"
      ],
      "metadata": {
        "colab": {
          "base_uri": "https://localhost:8080/"
        },
        "id": "WsodBQrJCjiu",
        "outputId": "b4799a29-0dcd-4f18-fdc9-da3c722024c2"
      },
      "execution_count": null,
      "outputs": [
        {
          "name": "stdout",
          "output_type": "stream",
          "text": [
            "Amount of Password generate: 8\n"
          ]
        }
      ]
    },
    {
      "cell_type": "code",
      "source": [
        "length =input('Enter the length of Password Generate: ')\n",
        "length =int(length)"
      ],
      "metadata": {
        "colab": {
          "base_uri": "https://localhost:8080/"
        },
        "id": "_SyLrR_JCsGh",
        "outputId": "bd4ff39c-de00-4a4e-f3a0-39801b91e2da"
      },
      "execution_count": null,
      "outputs": [
        {
          "name": "stdout",
          "output_type": "stream",
          "text": [
            "Enter the length of Password Generate: 8\n"
          ]
        }
      ]
    },
    {
      "cell_type": "code",
      "source": [
        "print('\\nhere is your Password')\n",
        "for i in range(num):\n",
        "    Passwords =''\n",
        "    for j in range(length):\n",
        "        Passwords += random.choice(chars)\n",
        "    print(Passwords)"
      ],
      "metadata": {
        "colab": {
          "base_uri": "https://localhost:8080/"
        },
        "id": "rU5ftAWyDP-d",
        "outputId": "cd9c6d6e-c397-4f4e-f33b-f507abb16c35"
      },
      "execution_count": null,
      "outputs": [
        {
          "output_type": "stream",
          "name": "stdout",
          "text": [
            "\n",
            "here is your Password\n",
            "8PsPLIar\n",
            "Y%wjy98j\n",
            "I*0LZctR\n",
            "esjt&lL4\n",
            "TWOOKtLo\n",
            "O9!sw#33\n",
            "EQKL5rVT\n",
            "pqnXTbJT\n"
          ]
        }
      ]
    }
  ]
}