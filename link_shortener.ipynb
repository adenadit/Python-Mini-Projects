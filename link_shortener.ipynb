{
  "nbformat": 4,
  "nbformat_minor": 0,
  "metadata": {
    "colab": {
      "provenance": [],
      "authorship_tag": "ABX9TyMdhCFJ//jq32WXeFP24OOc",
      "include_colab_link": true
    },
    "kernelspec": {
      "name": "python3",
      "display_name": "Python 3"
    },
    "language_info": {
      "name": "python"
    }
  },
  "cells": [
    {
      "cell_type": "markdown",
      "metadata": {
        "id": "view-in-github",
        "colab_type": "text"
      },
      "source": [
        "<a href=\"https://colab.research.google.com/github/adenadit/Python-Mini-Projects/blob/main/link_shortener.ipynb\" target=\"_parent\"><img src=\"https://colab.research.google.com/assets/colab-badge.svg\" alt=\"Open In Colab\"/></a>"
      ]
    },
    {
      "cell_type": "code",
      "execution_count": 17,
      "metadata": {
        "id": "otHREP57_j1V"
      },
      "outputs": [],
      "source": [
        "import pyshorteners\n",
        "\n",
        "# add library in cmd pip install pyshorteners"
      ]
    },
    {
      "cell_type": "code",
      "source": [
        "link = input(\"enter the link:\") #variable"
      ],
      "metadata": {
        "colab": {
          "base_uri": "https://localhost:8080/"
        },
        "id": "NUgFPWlOdzcy",
        "outputId": "aef34b58-b01c-4f7c-a38a-dbabc2732aef"
      },
      "execution_count": 15,
      "outputs": [
        {
          "name": "stdout",
          "output_type": "stream",
          "text": [
            "enter the link:https://github.com/adenadit\n"
          ]
        }
      ]
    },
    {
      "cell_type": "code",
      "source": [
        "shortener = pyshorteners.Shortener() #class object\n",
        "\n",
        "shortlink = shortener.tinyurl.short(link) #shorting the link\n",
        "\n"
      ],
      "metadata": {
        "id": "JwJu6XftgZpO"
      },
      "execution_count": 18,
      "outputs": []
    },
    {
      "cell_type": "code",
      "source": [
        "print(\"masukan link : \",link)\n",
        "print(\"link singkat : \", shortlink)"
      ],
      "metadata": {
        "colab": {
          "base_uri": "https://localhost:8080/"
        },
        "id": "FyIcAaNuggXc",
        "outputId": "d70b83d5-3722-41ce-80f5-9581aa414a26"
      },
      "execution_count": 19,
      "outputs": [
        {
          "output_type": "stream",
          "name": "stdout",
          "text": [
            "masukan link :  https://github.com/adenadit\n",
            "link singkat :  https://tinyurl.com/2asdkw8n\n"
          ]
        }
      ]
    }
  ]
}